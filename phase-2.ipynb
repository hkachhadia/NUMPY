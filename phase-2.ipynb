{
 "cells": [
  {
   "cell_type": "markdown",
   "id": "b4bad872",
   "metadata": {},
   "source": [
    "## Numpy array operation"
   ]
  },
  {
   "cell_type": "code",
   "execution_count": 10,
   "id": "2c7b3eff",
   "metadata": {},
   "outputs": [],
   "source": [
    "import numpy as np"
   ]
  },
  {
   "cell_type": "code",
   "execution_count": 11,
   "id": "21e95a75",
   "metadata": {},
   "outputs": [
    {
     "name": "stdout",
     "output_type": "stream",
     "text": [
      "[ 0  1  2  3  4  5  6  7  8  9 10]\n",
      "Basic Slicing :  [2 3 4 5 6]\n",
      "Step Slicing :  [ 0  2  4  6  8 10]\n",
      "Negative Slicing :  9\n",
      "Negative Slicing :  [10  8  6  4  2  0]\n"
     ]
    }
   ],
   "source": [
    "arr = np.array(range(11))\n",
    "print(arr)\n",
    "print(\"Basic Slicing : \",arr[2:7])\n",
    "print(\"Step Slicing : \",arr[::2])\n",
    "print(\"Negative Slicing : \",arr[-2])\n",
    "print(\"Negative Slicing : \",arr[::-2])"
   ]
  },
  {
   "cell_type": "code",
   "execution_count": 18,
   "id": "eb351acd",
   "metadata": {},
   "outputs": [
    {
     "name": "stdout",
     "output_type": "stream",
     "text": [
      "Specific Element :  8\n",
      "Entire Row :  [7 8 9]\n",
      "Entire Column :  [3 6 9]\n"
     ]
    }
   ],
   "source": [
    "arr_2d = np.array([[1,2,3],\n",
    "                   [4,5,6],\n",
    "                   [7,8,9]])\n",
    "print(\"Specific Element : \",arr_2d[2,1])\n",
    "print(\"Entire Row : \",arr_2d[2])\n",
    "print(\"Entire Column : \",arr_2d[:,2])"
   ]
  },
  {
   "cell_type": "markdown",
   "id": "323facff",
   "metadata": {},
   "source": [
    "## Sorting"
   ]
  },
  {
   "cell_type": "code",
   "execution_count": 32,
   "id": "2aba82a0",
   "metadata": {},
   "outputs": [
    {
     "name": "stdout",
     "output_type": "stream",
     "text": [
      "Sorted Array :  [1 2 2 3 3 4 5 8]\n",
      "Sorted 2d array with columns : \n",
      " [[1 2]\n",
      " [5 6]\n",
      " [9 8]]\n",
      "Sorted 2d array with rows : \n",
      " [[1 2]\n",
      " [8 9]\n",
      " [5 6]]\n"
     ]
    }
   ],
   "source": [
    "unsorted = np.array([2,3,1,5,2,8,4,3])\n",
    "print(\"Sorted Array : \",np.sort(unsorted))\n",
    "\n",
    "unsorted_2d = np.array([[1,2],[9,8],[5,6]])\n",
    "print(\"Sorted 2d array with columns : \\n\",np.sort(unsorted_2d,axis=0))\n",
    "print(\"Sorted 2d array with rows : \\n\",np.sort(unsorted_2d,axis=1))"
   ]
  },
  {
   "cell_type": "markdown",
   "id": "3ac62500",
   "metadata": {},
   "source": [
    "## Filtering"
   ]
  },
  {
   "cell_type": "code",
   "execution_count": 12,
   "id": "25173faf",
   "metadata": {},
   "outputs": [
    {
     "name": "stdout",
     "output_type": "stream",
     "text": [
      "Even Numbers :  [ 0  2  4  6  8 10]\n",
      "Odd Numbers :  [1 3 5 7 9]\n"
     ]
    }
   ],
   "source": [
    "numbers = np.array(range(11))\n",
    "even_numbers = numbers[numbers % 2 == 0]\n",
    "odd_numbers = numbers[numbers % 2 != 0]\n",
    "print(\"Even Numbers : \",even_numbers)\n",
    "print(\"Odd Numbers : \",odd_numbers)"
   ]
  },
  {
   "cell_type": "markdown",
   "id": "bf1819fe",
   "metadata": {},
   "source": [
    "## Filter with Mask"
   ]
  },
  {
   "cell_type": "code",
   "execution_count": 13,
   "id": "2372d9d7",
   "metadata": {},
   "outputs": [
    {
     "name": "stdout",
     "output_type": "stream",
     "text": [
      "Numbers greater than 5 are  [ 6  7  8  9 10]\n"
     ]
    }
   ],
   "source": [
    "mask = numbers > 5\n",
    "print(\"Numbers greater than 5 are \",numbers[mask])"
   ]
  },
  {
   "cell_type": "markdown",
   "id": "c39cdcf9",
   "metadata": {},
   "source": [
    "## Fancy Indexing and np.where"
   ]
  },
  {
   "cell_type": "code",
   "execution_count": 32,
   "id": "56774c1d",
   "metadata": {},
   "outputs": [
    {
     "name": "stdout",
     "output_type": "stream",
     "text": [
      "indices :  [ 3  4 54]\n",
      "where result :  [ 6  7  8  9 10]\n"
     ]
    }
   ],
   "source": [
    "nums = np.array([23,3,4,54,43])\n",
    "indices = [1,2,3]\n",
    "print(\"indices : \",nums[indices])\n",
    "\n",
    "where = numbers > 5\n",
    "print(\"where result : \",numbers[where])"
   ]
  },
  {
   "cell_type": "markdown",
   "id": "713c1256",
   "metadata": {},
   "source": [
    "## condition with where array"
   ]
  },
  {
   "cell_type": "code",
   "execution_count": 35,
   "id": "2e07dd3f",
   "metadata": {},
   "outputs": [
    {
     "name": "stdout",
     "output_type": "stream",
     "text": [
      "condition 1 with where array :  [ 0  1  2  3  4  5 24 28 32 36 40]\n",
      "condition 2 with where array :  [ 0  1  2  3  4  5  6  7  8  9 10]\n",
      "condition 3 with where array :  [False False False False False False  True  True  True  True  True]\n"
     ]
    }
   ],
   "source": [
    "condition_1 = np.where(numbers > 5, numbers * 4, numbers)\n",
    "condition_2 = np.where(numbers > 5, numbers , numbers)\n",
    "condition_3 = np.where(numbers > 5, True, False)\n",
    "print(\"condition 1 with where array : \",condition_1)\n",
    "print(\"condition 2 with where array : \",condition_2)\n",
    "print(\"condition 3 with where array : \",condition_3)"
   ]
  },
  {
   "cell_type": "markdown",
   "id": "4ac391f8",
   "metadata": {},
   "source": [
    "## Concatenate"
   ]
  },
  {
   "cell_type": "code",
   "execution_count": 38,
   "id": "b0354618",
   "metadata": {},
   "outputs": [
    {
     "name": "stdout",
     "output_type": "stream",
     "text": [
      "array concatenate :  [1 2 3 4 5 6]\n"
     ]
    }
   ],
   "source": [
    "arr1 = np.array([1,2,3])\n",
    "arr2 = np.array([4,5,6])\n",
    "print(\"array concatenate : \",np.concatenate((arr1,arr2)))"
   ]
  },
  {
   "cell_type": "markdown",
   "id": "ab71e0c9",
   "metadata": {},
   "source": [
    "## compatibility\n"
   ]
  },
  {
   "cell_type": "code",
   "execution_count": 44,
   "id": "b3b35b2a",
   "metadata": {},
   "outputs": [
    {
     "name": "stdout",
     "output_type": "stream",
     "text": [
      "shape compatibility 1:  True\n",
      "shape compatibility 2:  True\n"
     ]
    }
   ],
   "source": [
    "a = np.array([1,2,3])\n",
    "b = np.array([4,5,6])\n",
    "c = np.array([7,8,9,10])\n",
    "\n",
    "print(\"shape compatibility 1: \",a.shape == b.shape)\n",
    "print(\"shape compatibility 2: \",a.shape == b.shape != c.shape)"
   ]
  },
  {
   "cell_type": "markdown",
   "id": "9f7ca7ad",
   "metadata": {},
   "source": [
    "## Addition of rows and columns"
   ]
  },
  {
   "cell_type": "code",
   "execution_count": 50,
   "id": "614095e4",
   "metadata": {},
   "outputs": [
    {
     "name": "stdout",
     "output_type": "stream",
     "text": [
      "Original array : \n",
      " [[1 2]\n",
      " [3 4]]\n",
      "New array with new row : \n",
      " [[1 2]\n",
      " [3 4]\n",
      " [5 6]]\n",
      "New array with new column : \n",
      " [[1 2 8]\n",
      " [3 4 9]]\n"
     ]
    }
   ],
   "source": [
    "original = np.array([[1,2],\n",
    "                     [3,4]])\n",
    "new_row = np.array([5,6])\n",
    "new_colm = np.array([[8],\n",
    "                    [9]])\n",
    "result_row = np.vstack((original,new_row)) #vstack will add new row\n",
    "result_colm = np.hstack((original,new_colm)) #hstack will add new column\n",
    "print(\"Original array : \\n\",original)\n",
    "print(\"New array with new row : \\n\",result_row)\n",
    "print(\"New array with new column : \\n\",result_colm)"
   ]
  },
  {
   "cell_type": "markdown",
   "id": "18fdf162",
   "metadata": {},
   "source": [
    "## Deleting"
   ]
  },
  {
   "cell_type": "code",
   "execution_count": 67,
   "id": "95fff354",
   "metadata": {},
   "outputs": [
    {
     "name": "stdout",
     "output_type": "stream",
     "text": [
      "1d array after deletion :  [1 2 3 5]\n",
      "2d array after deletion of row:  [[1 2 3]]\n",
      "2d array after deletion of column: \n",
      " [[1 3]\n",
      " [4 6]]\n"
     ]
    }
   ],
   "source": [
    "ar = np.array([1,2,3,4,5])\n",
    "ar_2d = np.array([[1,2,3],\n",
    "                  [4,5,6]])\n",
    "print(\"1d array after deletion : \",np.delete(ar,3))\n",
    "print(\"2d array after deletion of row: \",np.delete(ar_2d,1,axis = 0))\n",
    "print(\"2d array after deletion of column: \\n\",np.delete(ar_2d,1,axis = 1))\n"
   ]
  }
 ],
 "metadata": {
  "kernelspec": {
   "display_name": "venv",
   "language": "python",
   "name": "python3"
  },
  "language_info": {
   "codemirror_mode": {
    "name": "ipython",
    "version": 3
   },
   "file_extension": ".py",
   "mimetype": "text/x-python",
   "name": "python",
   "nbconvert_exporter": "python",
   "pygments_lexer": "ipython3",
   "version": "3.13.5"
  }
 },
 "nbformat": 4,
 "nbformat_minor": 5
}
