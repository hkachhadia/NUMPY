{
 "cells": [
  {
   "cell_type": "markdown",
   "id": "d44103dc",
   "metadata": {},
   "source": [
    "## Numpy array and basics"
   ]
  },
  {
   "cell_type": "code",
   "execution_count": 1,
   "id": "d22d6023",
   "metadata": {},
   "outputs": [],
   "source": [
    "import numpy as np"
   ]
  },
  {
   "cell_type": "markdown",
   "id": "a437b93e",
   "metadata": {},
   "source": [
    "## Creating array from lists"
   ]
  },
  {
   "cell_type": "code",
   "execution_count": 2,
   "id": "70f72511",
   "metadata": {},
   "outputs": [
    {
     "name": "stdout",
     "output_type": "stream",
     "text": [
      "1D array :  [1 2 3 4]\n",
      "2D array :  [[1 2 3]\n",
      " [4 5 6]]\n"
     ]
    }
   ],
   "source": [
    "array_1d = np.array([1,2,3,4])\n",
    "print(\"1D array : \",array_1d)\n",
    "\n",
    "array_2d = np.array([[1,2,3],[4,5,6]])\n",
    "print(\"2D array : \",array_2d)"
   ]
  },
  {
   "cell_type": "markdown",
   "id": "b8bc6c91",
   "metadata": {},
   "source": [
    "## List VS Numpy array"
   ]
  },
  {
   "cell_type": "code",
   "execution_count": 4,
   "id": "13d3af34",
   "metadata": {},
   "outputs": [
    {
     "name": "stdout",
     "output_type": "stream",
     "text": [
      "list multipliccation :  [1, 2, 3, 1, 2, 3]\n",
      "array multipliccation :  [2 4 6]\n",
      "\n",
      "List operation time :  0.12018561363220215\n",
      "\n",
      "Array operation time :  0.016312599182128906\n"
     ]
    }
   ],
   "source": [
    "py_list = [1,2,3]\n",
    "print(\"list multipliccation : \",py_list * 2)\n",
    "\n",
    "np_array = np.array([1,2,3]) #element wise multiplication\n",
    "print(\"array multipliccation : \",np_array * 2)\n",
    "\n",
    "import time\n",
    "start = time.time()\n",
    "py_list = [i*2 for i in range(1000000)]\n",
    "print(\"\\nList operation time : \",time.time() - start)\n",
    "\n",
    "start = time.time()\n",
    "np_array = np.arange(1000000) * 2\n",
    "print(\"\\nArray operation time : \",time.time() - start)\n"
   ]
  },
  {
   "cell_type": "markdown",
   "id": "957fdda4",
   "metadata": {},
   "source": [
    "## Creating array from scratch"
   ]
  },
  {
   "cell_type": "code",
   "execution_count": 14,
   "id": "780ef590",
   "metadata": {},
   "outputs": [
    {
     "name": "stdout",
     "output_type": "stream",
     "text": [
      "zeros array : \n",
      " [[0. 0. 0. 0.]\n",
      " [0. 0. 0. 0.]\n",
      " [0. 0. 0. 0.]]\n",
      "ones array : \n",
      " [[1. 1. 1.]\n",
      " [1. 1. 1.]\n",
      " [1. 1. 1.]\n",
      " [1. 1. 1.]]\n",
      "full array : \n",
      " [[4 4]\n",
      " [4 4]]\n",
      "random array : \n",
      " [[0.66018794 0.17775785 0.17209974 0.76481654 0.97695953]\n",
      " [0.82343314 0.34553185 0.75869139 0.48217831 0.52973413]\n",
      " [0.59768436 0.69169179 0.79472026 0.07386175 0.63042158]\n",
      " [0.90407247 0.52085904 0.09050183 0.41971731 0.80960781]]\n",
      "sequence array : \n",
      " [ 0  2  4  6  8 10]\n"
     ]
    }
   ],
   "source": [
    "zeros = np.zeros((3,4)) # 3 rows 4 columns\n",
    "print(\"zeros array : \\n\",zeros)\n",
    "\n",
    "ones = np.ones((4,3)) # 4 rows 3 columns\n",
    "print(\"ones array : \\n\",ones)\n",
    "\n",
    "# array of constant element\n",
    "full = np.full((2,2),4)\n",
    "print(\"full array : \\n\",full)\n",
    "\n",
    "# random element array/matrices\n",
    "random = np.random.random((4,5))\n",
    "print(\"random array : \\n\",random) # random values will fluctuate between 0s and 1s \n",
    "\n",
    "# sequence array\n",
    "sequence = np.arange(0,11,2) # (start , stop(exclusive) , step)\n",
    "print(\"sequence array : \\n\",sequence)\n"
   ]
  },
  {
   "cell_type": "markdown",
   "id": "7a7814fa",
   "metadata": {},
   "source": [
    "## Vector, Matrix and Tensor"
   ]
  },
  {
   "cell_type": "code",
   "execution_count": 15,
   "id": "d32d6862",
   "metadata": {},
   "outputs": [
    {
     "name": "stdout",
     "output_type": "stream",
     "text": [
      "vector :\n",
      " [1 2 3]\n",
      "matrix :\n",
      " [[1 2 3]\n",
      " [4 5 6]\n",
      " [7 8 9]]\n",
      "tensor :\n",
      " [[[1 2]\n",
      "  [3 4]]\n",
      "\n",
      " [[5 6]\n",
      "  [7 8]]]\n"
     ]
    }
   ],
   "source": [
    "vector = np.array([1,2,3])\n",
    "print(\"vector :\\n\",vector)\n",
    "\n",
    "matrix = np.array([[1,2,3],\n",
    "                   [4,5,6],\n",
    "                   [7,8,9]])\n",
    "print(\"matrix :\\n\",matrix)\n",
    "\n",
    "tensor = np.array([[[1,2], [3,4]],\n",
    "                   [[5,6], [7,8]]])\n",
    "print(\"tensor :\\n\",tensor)\n"
   ]
  },
  {
   "cell_type": "markdown",
   "id": "6bf41920",
   "metadata": {},
   "source": [
    "## Array Properties"
   ]
  },
  {
   "cell_type": "code",
   "execution_count": 21,
   "id": "496a6357",
   "metadata": {},
   "outputs": [
    {
     "name": "stdout",
     "output_type": "stream",
     "text": [
      "Shape :  (3, 3)\n",
      "Dimensions :  2\n",
      "Size :  9\n",
      "Datatype of array 1 :  int64\n",
      "Datatype of array 2 :  <U21\n",
      "Datatype of array 3:  float64\n"
     ]
    }
   ],
   "source": [
    "arr1 = np.array([[1,2,3],\n",
    "                [4,5,6],\n",
    "                [7,8,9]])\n",
    "\n",
    "\n",
    "arr2 = np.array([[1,2,3], \n",
    "                [4,5,6],\n",
    "                [7,8,\"9\"]])\n",
    "\n",
    "\n",
    "arr3 = np.array([[1,2,3],\n",
    "                [4,5,6],\n",
    "                [7,8,9.9]])\n",
    "\n",
    "\n",
    "# arr = np.array([[1,2,3], ## will not throw error but prefer similar type of element in numpy array\n",
    "#                 [4,5,6],\n",
    "#                 [7,8,True]])\n",
    "\n",
    "\n",
    "print(\"Shape : \",arr1.shape) # m x n (rows x columns)\n",
    "\n",
    "print(\"Dimensions : \",arr1.ndim) # 1d / 2d / 3d ...\n",
    "\n",
    "print(\"Size : \",arr1.size) # number of elements in a matrix\n",
    "\n",
    "print(\"Datatype of array 1 : \",arr1.dtype) \n",
    "print(\"Datatype of array 2 : \",arr2.dtype) \n",
    "print(\"Datatype of array 3: \",arr3.dtype) \n"
   ]
  },
  {
   "cell_type": "markdown",
   "id": "1c122878",
   "metadata": {},
   "source": [
    "## Array reshaping"
   ]
  },
  {
   "cell_type": "code",
   "execution_count": null,
   "id": "3fc9e198",
   "metadata": {},
   "outputs": [
    {
     "name": "stdout",
     "output_type": "stream",
     "text": [
      "Original array : [ 0  1  2  3  4  5  6  7  8  9 10 11]\n",
      "reshaped array : \n",
      " [[ 0  1  2  3]\n",
      " [ 4  5  6  7]\n",
      " [ 8  9 10 11]]\n",
      "flattened array : \n",
      " [ 0  1  2  3  4  5  6  7  8  9 10 11]\n",
      "raveled array : \n",
      " [ 0  1  2  3  4  5  6  7  8  9 10 11]\n",
      "transposed array : \n",
      " [[ 0  4  8]\n",
      " [ 1  5  9]\n",
      " [ 2  6 10]\n",
      " [ 3  7 11]]\n"
     ]
    }
   ],
   "source": [
    "arr = np.arange(12)\n",
    "print(\"Original array :\", arr)\n",
    "\n",
    "reshaped = arr.reshape((3,4))\n",
    "print(\"reshaped array : \\n\",reshaped)\n",
    "\n",
    "flattened = reshaped.flatten()\n",
    "print(\"flattened array : \\n\",flattened)\n",
    "\n",
    "# ravel returns view instead of copy\n",
    "raveled = reshaped.ravel()\n",
    "print(\"raveled array : \\n\",raveled)\n",
    "\n",
    "# Transpose (mxn -> nxm)\n",
    "transpose = reshaped.T\n",
    "print(\"transposed array : \\n\",transpose)\n"
   ]
  }
 ],
 "metadata": {
  "kernelspec": {
   "display_name": "venv",
   "language": "python",
   "name": "python3"
  },
  "language_info": {
   "codemirror_mode": {
    "name": "ipython",
    "version": 3
   },
   "file_extension": ".py",
   "mimetype": "text/x-python",
   "name": "python",
   "nbconvert_exporter": "python",
   "pygments_lexer": "ipython3",
   "version": "3.13.5"
  }
 },
 "nbformat": 4,
 "nbformat_minor": 5
}
